{
 "metadata": {
  "name": ""
 },
 "nbformat": 3,
 "nbformat_minor": 0,
 "worksheets": [
  {
   "cells": [
    {
     "cell_type": "markdown",
     "metadata": {},
     "source": [
      "# Goal\n",
      "\n",
      "Convert the reduced GDELT dataset from text to HDF5 and SQL in the best possible way. See which one is better.\n",
      "\n",
      "## About GDELT\n",
      "\n",
      "The reduced dataset comes in the form of text files that are split up by year. I can't find a source for the exact\n",
      "format of these columns, but this is the full list:\n",
      "\n",
      " - **Day** yyyymmdd\n",
      " - **Actor1Code** vaguely described, first 3 chars are most critical, other codes may be present\n",
      " - **Actor2Code** same as Actor1Code\n",
      " - **EventCode** Numeric code, but leading '0' is relevant, keep as text\n",
      " - **QuadCategory** Numeric code, but generally small (and not metrical / ordinal). Also keep as text.\n",
      " - **GoldsteinScale** Floating point\n",
      " - **Actor1Geo_Lat**\n",
      " - **Actor1Geo_Long**\n",
      " - **Actor2Geo_Lat**\n",
      " - **Actor2Geo_Long**\n",
      " - **ActionGeo_Lat**\n",
      " - **ActionGeo_Long**\n",
      "\n",
      "Sadly, some files were badly formatted. In particular, files after 2006 have a\n",
      "number of repeats of the header column. I removed these manually. Could script\n",
      "it for a more public distribution of this approach.\n"
     ]
    },
    {
     "cell_type": "code",
     "collapsed": false,
     "input": [],
     "language": "python",
     "metadata": {},
     "outputs": []
    }
   ],
   "metadata": {}
  }
 ]
}